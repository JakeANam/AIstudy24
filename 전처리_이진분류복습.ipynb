{
  "nbformat": 4,
  "nbformat_minor": 0,
  "metadata": {
    "colab": {
      "provenance": [],
      "authorship_tag": "ABX9TyNWJEBws2xdN4VyhtG5YIMg",
      "include_colab_link": true
    },
    "kernelspec": {
      "name": "python3",
      "display_name": "Python 3"
    },
    "language_info": {
      "name": "python"
    }
  },
  "cells": [
    {
      "cell_type": "markdown",
      "metadata": {
        "id": "view-in-github",
        "colab_type": "text"
      },
      "source": [
        "<a href=\"https://colab.research.google.com/github/JakeANam/AIstudy24/blob/master/%EC%A0%84%EC%B2%98%EB%A6%AC_%EC%9D%B4%EC%A7%84%EB%B6%84%EB%A5%98%EB%B3%B5%EC%8A%B5.ipynb\" target=\"_parent\"><img src=\"https://colab.research.google.com/assets/colab-badge.svg\" alt=\"Open In Colab\"/></a>"
      ]
    },
    {
      "cell_type": "code",
      "source": [
        "#Linux 명령어: Colab의 가상머신에 나눔폰트 설치하고 적용하기\n",
        "!sudo apt-get install -y fonts-nanum\n",
        "!sudo fc-cache -fv\n",
        "!rm ~/.cache/matplotlib -rf"
      ],
      "metadata": {
        "colab": {
          "base_uri": "https://localhost:8080/"
        },
        "id": "g8ianS62LF6q",
        "outputId": "4f3268d2-1a47-4523-f488-f5648f8e731c"
      },
      "execution_count": 1,
      "outputs": [
        {
          "output_type": "stream",
          "name": "stdout",
          "text": [
            "Reading package lists... Done\n",
            "Building dependency tree... Done\n",
            "Reading state information... Done\n",
            "fonts-nanum is already the newest version (20200506-1).\n",
            "0 upgraded, 0 newly installed, 0 to remove and 49 not upgraded.\n",
            "/usr/share/fonts: caching, new cache contents: 0 fonts, 1 dirs\n",
            "/usr/share/fonts/truetype: caching, new cache contents: 0 fonts, 3 dirs\n",
            "/usr/share/fonts/truetype/humor-sans: caching, new cache contents: 1 fonts, 0 dirs\n",
            "/usr/share/fonts/truetype/liberation: caching, new cache contents: 16 fonts, 0 dirs\n",
            "/usr/share/fonts/truetype/nanum: caching, new cache contents: 12 fonts, 0 dirs\n",
            "/usr/local/share/fonts: caching, new cache contents: 0 fonts, 0 dirs\n",
            "/root/.local/share/fonts: skipping, no such directory\n",
            "/root/.fonts: skipping, no such directory\n",
            "/usr/share/fonts/truetype: skipping, looped directory detected\n",
            "/usr/share/fonts/truetype/humor-sans: skipping, looped directory detected\n",
            "/usr/share/fonts/truetype/liberation: skipping, looped directory detected\n",
            "/usr/share/fonts/truetype/nanum: skipping, looped directory detected\n",
            "/var/cache/fontconfig: cleaning cache directory\n",
            "/root/.cache/fontconfig: not cleaning non-existent cache directory\n",
            "/root/.fontconfig: not cleaning non-existent cache directory\n",
            "fc-cache: succeeded\n"
          ]
        }
      ]
    },
    {
      "cell_type": "code",
      "source": [
        "import random\n",
        "import matplotlib.pyplot as plt\n",
        "import numpy as np\n",
        "from sklearn.model_selection import train_test_split\n",
        "from sklearn.neighbors import KNeighborsClassifier\n"
      ],
      "metadata": {
        "id": "gNXlhEv242G4"
      },
      "execution_count": 7,
      "outputs": []
    },
    {
      "cell_type": "code",
      "execution_count": 113,
      "metadata": {
        "colab": {
          "base_uri": "https://localhost:8080/",
          "height": 522
        },
        "id": "6Pfc_W_D16_k",
        "outputId": "d3e3c339-6ccf-41b2-e385-9a7f59d00d63"
      },
      "outputs": [
        {
          "output_type": "stream",
          "name": "stdout",
          "text": [
            "[ 1  2  3  4  5  6  7  8  9 10 11 12 13 14 15 16 17 18 19 20 21 22 23 24\n",
            " 25 26 27 28 29 30 31 32 33 34 35 36 37 38 39 40 41 42 43 44 45 46 47 48\n",
            " 49 50 51 52 53 54 55 56 57 58 59 60 61 62 63 64 65 66 67 68 69 70 71 72\n",
            " 73 74 75 76 77 78 79 80]\n",
            "[ 1  6  9 10 12 14 16 17 29 30 34 37 41 50 52 55 63 65 68 74]\n"
          ]
        },
        {
          "output_type": "display_data",
          "data": {
            "text/plain": [
              "<Figure size 640x480 with 1 Axes>"
            ],
            "image/png": "[encoded data removed]"
          },
          "metadata": {}
        }
      ],
      "source": [
        "# 데이터 준비 - 훈련set 생성\n",
        "# 학생 80명 성적 list\n",
        "# 학생, 점수, 점수 70이상이면 1\n",
        "students, scores, passed = [], [], []\n",
        "num = 0;\n",
        "for_separate = np.arange(1, 81) #1 ~80까지 자동 생성\n",
        "random.seed(5)\n",
        "np.random.seed(10)\n",
        "np.random.shuffle(for_separate)\n",
        "for_test = for_separate[60:]\n",
        "for_test.sort()\n",
        "print(for_test)\n",
        "students_for_train = []\n",
        "students_for_test = []\n",
        "scores_for_train = []\n",
        "scores_for_test = []\n",
        "\n",
        "test_index = 0\n",
        "\n",
        "while num < 80:\n",
        "  num += 1\n",
        "  students.append(\"학생.%d\" %num)\n",
        "  score = random.randrange(2,21)*5\n",
        "  scores.append(score)\n",
        "  passed.append(1) if score >= 70 else passed.append(0)\n",
        "\n",
        "  if num == for_test[test_index]\n",
        "\n",
        "\n",
        "\n",
        "\n",
        "student_info = np.column_stack((students, scores))\n",
        "\n",
        "plt.rc('font', family='NanumBarunGothic')\n",
        "plt.bar(students, scores)\n",
        "# plt.bar([\"Moved\"],[60])\n",
        "\n",
        "plt.show()\n"
      ]
    },
    {
      "cell_type": "code",
      "source": [
        "train_input, test_input, train_target, test_target = train_test_split(student_info, passed, stratify=passed, random_state=40)\n",
        "\n",
        "\n",
        "a = 0\n",
        "\n",
        "print(trst, trsc)\n",
        "\n",
        "for i in train_input:\n",
        "\n",
        "  # print(train_input[a], train_target[a])\n",
        "  # plt.bar(train_input[a][0], train_input[a][1], color=\"blue\")\n",
        "\n",
        "  a += 1\n",
        "\n",
        "\n",
        "plt.bar(students, scores)\n",
        "\n",
        "\n",
        "# plt.bar([\"학생50\"],[60],bottom=students[49])\n",
        "# plt.xticks(ticks=[0,39,74], labels=[\"학생1\",\"학생40\",\"학생80\"])\n",
        "plt.show()"
      ],
      "metadata": {
        "colab": {
          "base_uri": "https://localhost:8080/",
          "height": 448
        },
        "id": "z5SFCuRC4oO_",
        "outputId": "8fe9f63f-2ef8-4c62-b020-d1009f240c11"
      },
      "execution_count": 71,
      "outputs": [
        {
          "output_type": "stream",
          "name": "stdout",
          "text": [
            "['학생.77' '100'] ['학생.13' '70']\n"
          ]
        },
        {
          "output_type": "display_data",
          "data": {
            "text/plain": [
              "<Figure size 640x480 with 1 Axes>"
            ],
            "image/png": "[encoded data removed]"
          },
          "metadata": {}
        }
      ]
    },
    {
      "cell_type": "code",
      "source": [],
      "metadata": {
        "id": "7V1Tvh-8TaVJ"
      },
      "execution_count": null,
      "outputs": []
    }
  ]
}